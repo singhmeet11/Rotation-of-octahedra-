{
 "cells": [
  {
   "cell_type": "markdown",
   "id": "557dd70e",
   "metadata": {},
   "source": [
    "# Rotation of Octahdera's \n",
    "\n",
    "This part of the code will be used in order to rotate the octahderas"
   ]
  },
  {
   "cell_type": "code",
   "execution_count": 1,
   "id": "4f39ea9c",
   "metadata": {},
   "outputs": [],
   "source": [
    "import numpy as np\n",
    "import math as m\n",
    "import matplotlib.pyplot as plt\n",
    "from mpl_toolkits.mplot3d.proj3d import proj_transform\n",
    "from mpl_toolkits.mplot3d.axes3d import Axes3D\n",
    "from matplotlib.patches import FancyArrowPatch\n",
    "from sympy import Matrix\n",
    "%matplotlib notebook\n",
    "\n",
    "\n",
    "pi = np.pi"
   ]
  },
  {
   "cell_type": "markdown",
   "id": "d8df304f",
   "metadata": {},
   "source": [
    "## Generalized Rotations around any given axis"
   ]
  },
  {
   "cell_type": "code",
   "execution_count": 2,
   "id": "4c6657e2",
   "metadata": {},
   "outputs": [],
   "source": [
    "np.set_printoptions(precision=10) ## this should satisfy the P2/m vs I2/m space group\n",
    "## reducing the number of times we do approximation can also help with this. \n",
    "## we are copying from the VESTA software this could also be a reason error is introduced in the starting step only\n",
    "\n",
    "def get_rotation_class(vec, angle):\n",
    "    \"\"\"\n",
    "    Calculate the matrix classicaly for comparison\n",
    "    \n",
    "    Parameters:\n",
    "        vec: list\n",
    "            Three-dimensional array with the vector we are going to rotate around\n",
    "        angle: float\n",
    "            Angle we are going to rotate\n",
    "    \"\"\"\n",
    "    a   = np.cos(angle / 2)\n",
    "    b   = vec[0] * np.sin(angle / 2)\n",
    "    c   = vec[1] * np.sin(angle / 2)    \n",
    "    d   = vec[2] * np.sin(angle / 2)   \n",
    "    \n",
    "    mat = np.array([\n",
    "        [a**2 + b**2 - c**2 - d**2, 2*(b*c - a*d), 2*(b*d + a*c)],\n",
    "        [2*(b*c + a*d), a**2 + c**2 - b**2 - d**2, 2*(c*d - a*b)],\n",
    "        [2*(b*d - a*c), 2*(c*d + a*b), a**2 + d**2 - b**2 - c**2],\n",
    "    ])\n",
    "    return mat"
   ]
  },
  {
   "cell_type": "markdown",
   "id": "e1778549",
   "metadata": {},
   "source": [
    "## Octahderal Rotation"
   ]
  },
  {
   "cell_type": "markdown",
   "id": "4a6b82b9",
   "metadata": {},
   "source": [
    "## Generalized function"
   ]
  },
  {
   "cell_type": "code",
   "execution_count": 3,
   "id": "58538d58",
   "metadata": {},
   "outputs": [],
   "source": [
    "def Octahderal_tilt(Sn_gen, I_matrix, axis, angle):\n",
    "    '''\n",
    "    This will take in the position of an octahedra which is placed at some other location \n",
    "    '''\n",
    "    axis    = axis / np.linalg.norm(axis)\n",
    "    R = get_rotation_class(axis, angle)\n",
    "    \n",
    "    I_translate= []\n",
    "    # translate I octahderal to origin\n",
    "    for i in range(0,len(I_matrix)):\n",
    "        I_translate.append(list(np.array(I_matrix[i]) - np.array(Sn_gen)))\n",
    "        \n",
    "#     print()\n",
    "    I_rotated = []\n",
    "    for i in range(0,len(I_matrix)):\n",
    "        I_rotated.append(R @ I_translate[i])\n",
    "        \n",
    "    I_translate_back = []\n",
    "    for i in range(0,len(I_matrix)):\n",
    "        I_translate_back.append(list(np.array(I_rotated[i]) + np.array(Sn_gen)))\n",
    "        \n",
    "    return I_translate_back"
   ]
  },
  {
   "cell_type": "code",
   "execution_count": 4,
   "id": "40afc224",
   "metadata": {},
   "outputs": [],
   "source": [
    "def plot_octahdera(Sn,I, I_tilted):\n",
    "    x=[]\n",
    "    y=[]\n",
    "    z=[]\n",
    "    xt=[]\n",
    "    yt=[]\n",
    "    zt=[]    \n",
    "    for i in range(0,len(I)):\n",
    "        x.append(I[i][0])\n",
    "    x.append(Sn[0])    \n",
    "    for i in range(0,len(I)):\n",
    "        y.append(I[i][1])\n",
    "    y.append(Sn[1])\n",
    "    for i in range(0,len(I)):\n",
    "        z.append(I[i][2])\n",
    "    z.append(Sn[2])\n",
    "\n",
    "    for i in range(0,len(I)):\n",
    "        xt.append(I_tilted[i][0])\n",
    "    for i in range(0,len(I)):\n",
    "        yt.append(I_tilted[i][1])\n",
    "    for i in range(0,len(I)):\n",
    "        zt.append(I_tilted[i][2])\n",
    "    \n",
    "    fig = plt.figure(figsize=(5,5))\n",
    "    ax = plt.axes(projection='3d')\n",
    "    x=np.array(x)\n",
    "    y=np.array(y)\n",
    "    z=np.array(z)\n",
    "\n",
    "    xt=np.array(xt) \n",
    "    yt=np.array(yt)\n",
    "    zt=np.array(zt)\n",
    "    \n",
    "    ax.plot3D(x, y, z,'*r')\n",
    "    ax.plot3D(xt, yt, zt,'*b')\n",
    "\n",
    "    plt.show()"
   ]
  },
  {
   "cell_type": "code",
   "execution_count": 5,
   "id": "f49c94bc",
   "metadata": {},
   "outputs": [],
   "source": [
    "## finding the exact angle \n",
    "def find_angle(a,b):\n",
    "    angle = np.arccos(np.dot(a,b)/(np.linalg.norm(a)*np.linalg.norm(b)))\n",
    "    angle_deg = (angle/pi)*180\n",
    "    return angle_deg # we will need angle in radians only in order to calcualte the exact difference that we wanna copensate\n",
    "\n",
    "## way to use this\n",
    "\n",
    "# # we will find angle between a and the octahderal arm\n",
    "# a = [1,0,0]\n",
    "# sn_i = list(np.array([0.71888 ,  0.77571,   0.50000])-np.array([0.50000,   0.50000,   0.50000  ]))\n",
    "\n",
    "\n",
    "# find_angle(a,sn_i)\n",
    "\n",
    "# resd_angle = find_angle(a,sn_i) - 45\n",
    "# resd_angle"
   ]
  },
  {
   "cell_type": "markdown",
   "id": "19374689",
   "metadata": {},
   "source": [
    "# Taking the inputs with higher precision"
   ]
  },
  {
   "cell_type": "code",
   "execution_count": 6,
   "id": "6eb14333",
   "metadata": {},
   "outputs": [],
   "source": [
    "def final_coordinates_after_tilt(angle):\n",
    "    \n",
    "    # as we have to rotate by 11.5239\n",
    "    angle_final = -pi/(180/(angle + 11.523920552984817))\n",
    "    \n",
    "    I = [[0.269495994,         0.265969992,         0.970390022],\n",
    "         [0.730504036,         0.734030008,         0.029610001],\n",
    "         [0.730504036,         0.265969992,         0.029610001],\n",
    "         [0.269495994,         0.734030008,         0.970390022],\n",
    "         [0.054763019,         0.000000000,         0.268579006],\n",
    "         [0.945236981,         0.000000000,         0.731420994]]\n",
    "        \n",
    "    Sn1 = [0,0,0]\n",
    "    I1 = [I[4]]\n",
    "\n",
    "    Sn2 = [1,0,0]\n",
    "    I2 = [I[2]]\n",
    "\n",
    "    Sn3 = [1,1,0]\n",
    "    I3= [I[1]]\n",
    "\n",
    "    Sn4 = [0,0,1]\n",
    "    I4 = [I[0]]\n",
    "\n",
    "    Sn5 = [0,1,1]\n",
    "    I5 = [I[3]]\n",
    "\n",
    "    Sn6 = [1,0,1]\n",
    "    I6 = [I[5]]\n",
    "    \n",
    "    I_t1 = Octahderal_tilt(Sn1, I1, [0,1,0], angle_final)\n",
    "    I_t2 = Octahderal_tilt(Sn2, I2, [0,1,0], angle_final)\n",
    "    I_t3 = Octahderal_tilt(Sn3, I3, [0,1,0], angle_final)\n",
    "    I_t4 = Octahderal_tilt(Sn4, I4, [0,1,0], angle_final)\n",
    "    I_t5 = Octahderal_tilt(Sn5, I5, [0,1,0], angle_final)\n",
    "    I_t6 = Octahderal_tilt(Sn6, I6, [0,1,0], angle_final)\n",
    "\n",
    "    I_t = [I_t1[0], I_t2[0], I_t3[0], I_t4[0], I_t5[0], I_t6[0]]\n",
    "    \n",
    "    Sn2 = [0.50000,   0.50000,   0.50000]\n",
    "\n",
    "    I2 =  [[     0.769495964,         0.765969992,         0.470389992],\n",
    "         [0.230504006,         0.234030008,         0.529609978],\n",
    "         [0.230504006,         0.765969992,         0.529609978],\n",
    "         [0.769495964,         0.234030008,         0.470389992],\n",
    "         [0.554763019,         0.500000000,         0.768579006],\n",
    "         [0.445236981,         0.500000000,         0.231420994]]\n",
    "\n",
    "    I_t2 = Octahderal_tilt(Sn2, I2, [0,1,0], angle_final)\n",
    "    # plot_octahdera(Sn2,I2,I_t2)\n",
    "\n",
    "    \n",
    "    return I_t,I_t2"
   ]
  },
  {
   "cell_type": "code",
   "execution_count": 34,
   "id": "989e671a",
   "metadata": {},
   "outputs": [],
   "source": [
    "# 10 deg tilt\n",
    "I_t,I_t2 = final_coordinates_after_tilt(10)"
   ]
  },
  {
   "cell_type": "code",
   "execution_count": 37,
   "id": "f8fca13a",
   "metadata": {},
   "outputs": [
    {
     "data": {
      "text/plain": [
       "[[-0.047594762886432086, 0.0, 0.26994149228995296],\n",
       " [0.7384338759017703, 0.265969992, -0.07133014436925551],\n",
       " [0.7384338759017703, 0.734030008, -0.07133014436925551],\n",
       " [0.2615661435677023, 0.265969992, 1.0713301767720276],\n",
       " [0.2615661435677023, 0.734030008, 1.0713301767720276],\n",
       " [1.047594762886432, 0.0, 0.7300585077100471]]"
      ]
     },
     "execution_count": 37,
     "metadata": {},
     "output_type": "execute_result"
    }
   ],
   "source": [
    "I_t"
   ]
  },
  {
   "cell_type": "code",
   "execution_count": 38,
   "id": "20cf67d5",
   "metadata": {},
   "outputs": [
    {
     "data": {
      "text/plain": [
       "[[0.7615661266664571, 0.765969992, 0.5713301378574042],\n",
       " [0.2384338564322977, 0.234030008, 0.4286698232279724],\n",
       " [0.2384338564322977, 0.765969992, 0.4286698232279724],\n",
       " [0.7615661266664571, 0.234030008, 0.5713301378574042],\n",
       " [0.45240523711356795, 0.5, 0.7699414922899529],\n",
       " [0.547594762886432, 0.5, 0.23005850771004704]]"
      ]
     },
     "execution_count": 38,
     "metadata": {},
     "output_type": "execute_result"
    }
   ],
   "source": [
    "I_t2"
   ]
  },
  {
   "cell_type": "code",
   "execution_count": 42,
   "id": "b29038a6",
   "metadata": {},
   "outputs": [],
   "source": [
    "# 40 deg tily\n",
    "I_t,I_t2 = final_coordinates_after_tilt(40)"
   ]
  },
  {
   "cell_type": "code",
   "execution_count": 43,
   "id": "3fda26e2",
   "metadata": {},
   "outputs": [
    {
     "data": {
      "text/plain": [
       "[[-0.17618901989172345, 0.0, 0.2099788084153644],\n",
       " [0.8091421639461278, 0.265969992, -0.19255677912850164],\n",
       " [0.8091421639461278, 0.734030008, -0.19255677912850164],\n",
       " [0.190857836713544, 0.265969992, 1.1925568169248617],\n",
       " [0.190857836713544, 0.734030008, 1.1925568169248617],\n",
       " [1.1761890198917233, 0.0, 0.7900211915846356]]"
      ]
     },
     "execution_count": 43,
     "metadata": {},
     "output_type": "execute_result"
    }
   ],
   "source": [
    "I_t"
   ]
  },
  {
   "cell_type": "code",
   "execution_count": 44,
   "id": "022cf9d1",
   "metadata": {},
   "outputs": [
    {
     "data": {
      "text/plain": [
       "[[0.690857841533948, 0.765969992, 0.6925567747731867],\n",
       " [0.309142163286456, 0.234030008, 0.3074431830751383],\n",
       " [0.309142163286456, 0.765969992, 0.3074431830751383],\n",
       " [0.690857841533948, 0.234030008, 0.6925567747731867],\n",
       " [0.32381098010827664, 0.5, 0.7099788084153644],\n",
       " [0.6761890198917234, 0.5, 0.2900211915846356]]"
      ]
     },
     "execution_count": 44,
     "metadata": {},
     "output_type": "execute_result"
    }
   ],
   "source": [
    "I_t2"
   ]
  },
  {
   "cell_type": "code",
   "execution_count": 45,
   "id": "bb94510f",
   "metadata": {},
   "outputs": [],
   "source": [
    "# 50 deg tily\n",
    "I_t,I_t2 = final_coordinates_after_tilt(50)"
   ]
  },
  {
   "cell_type": "code",
   "execution_count": 46,
   "id": "6709ef5a",
   "metadata": {},
   "outputs": [
    {
     "data": {
      "text/plain": [
       "[[-0.20997475021499293, 0.0, 0.17619385626659556],\n",
       " [0.8454788571240918, 0.265969992, -0.2227735244050164],\n",
       " [0.8454788571240918, 0.734030008, -0.2227735244050164],\n",
       " [0.15452113696228917, 0.265969992, 1.2227735617417157],\n",
       " [0.15452113696228917, 0.734030008, 1.2227735617417157],\n",
       " [1.209974750214993, 0.0, 0.8238061437334044]]"
      ]
     },
     "execution_count": 46,
     "metadata": {},
     "output_type": "execute_result"
    }
   ],
   "source": [
    "I_t"
   ]
  },
  {
   "cell_type": "code",
   "execution_count": 47,
   "id": "daf24135",
   "metadata": {},
   "outputs": [
    {
     "data": {
      "text/plain": [
       "[[0.654521149029022, 0.765969992, 0.7227735210674737],\n",
       " [0.3454788630377108, 0.234030008, 0.27722643825828436],\n",
       " [0.3454788630377108, 0.765969992, 0.27722643825828436],\n",
       " [0.654521149029022, 0.234030008, 0.7227735210674737],\n",
       " [0.29002524978500716, 0.5, 0.6761938562665956],\n",
       " [0.7099747502149929, 0.5, 0.32380614373340444]]"
      ]
     },
     "execution_count": 47,
     "metadata": {},
     "output_type": "execute_result"
    }
   ],
   "source": [
    "I_t2"
   ]
  },
  {
   "cell_type": "code",
   "execution_count": 48,
   "id": "52dddcb5",
   "metadata": {},
   "outputs": [],
   "source": [
    "# 70 deg tily\n",
    "I_t,I_t2 = final_coordinates_after_tilt(70)"
   ]
  },
  {
   "cell_type": "code",
   "execution_count": 49,
   "id": "810d09ca",
   "metadata": {},
   "outputs": [
    {
     "data": {
      "text/plain": [
       "[[-0.2575735713017965, 0.0, 0.09375247239822951],\n",
       " [0.930990655030272, 0.265969992, -0.26218798042312763],\n",
       " [0.930990655030272, 0.734030008, -0.26218798042312763],\n",
       " [0.06900932664284054, 0.265969992, 1.2621880134855716],\n",
       " [0.06900932664284054, 0.734030008, 1.2621880134855716],\n",
       " [1.2575735713017964, 0.0, 0.9062475276017705]]"
      ]
     },
     "execution_count": 49,
     "metadata": {},
     "output_type": "execute_result"
    }
   ],
   "source": [
    "I_t"
   ]
  },
  {
   "cell_type": "code",
   "execution_count": 50,
   "id": "8eeca7e4",
   "metadata": {},
   "outputs": [
    {
     "data": {
      "text/plain": [
       "[[0.5690093518932704, 0.765969992, 0.7621879793913522],\n",
       " [0.43099067335715946, 0.234030008, 0.23781198651442842],\n",
       " [0.43099067335715946, 0.765969992, 0.23781198651442842],\n",
       " [0.5690093518932704, 0.234030008, 0.7621879793913522],\n",
       " [0.24242642869820358, 0.5, 0.5937524723982295],\n",
       " [0.7575735713017965, 0.5, 0.40624752760177046]]"
      ]
     },
     "execution_count": 50,
     "metadata": {},
     "output_type": "execute_result"
    }
   ],
   "source": [
    "I_t2"
   ]
  },
  {
   "cell_type": "code",
   "execution_count": 51,
   "id": "849dc01d",
   "metadata": {},
   "outputs": [],
   "source": [
    "# 80 deg tily\n",
    "I_t,I_t2 = final_coordinates_after_tilt(80)"
   ]
  },
  {
   "cell_type": "code",
   "execution_count": 52,
   "id": "e70f7ff3",
   "metadata": {},
   "outputs": [
    {
     "data": {
      "text/plain": [
       "[[-0.2699403959727737, 0.0, 0.04760098041011931],\n",
       " [0.9775675270501668, 0.26596999199999993, -0.270188102863291],\n",
       " [0.9775675270501668, 0.734030008, -0.270188102863291],\n",
       " [0.022432449160139187, 0.26596999199999993, 1.2701881322410116],\n",
       " [0.022432449160139187, 0.734030008, 1.2701881322410116],\n",
       " [1.2699403959727738, 0.0, 0.9523990195898807]]"
      ]
     },
     "execution_count": 52,
     "metadata": {},
     "output_type": "execute_result"
    }
   ],
   "source": [
    "I_t"
   ]
  },
  {
   "cell_type": "code",
   "execution_count": 53,
   "id": "31b2ddb8",
   "metadata": {},
   "outputs": [
    {
     "data": {
      "text/plain": [
       "[[0.5224324799473574, 0.765969992, 0.7701881030494511],\n",
       " [0.4775675508398608, 0.23403000800000007, 0.22981186775898854],\n",
       " [0.4775675508398608, 0.765969992, 0.22981186775898854],\n",
       " [0.5224324799473574, 0.23403000800000007, 0.7701881030494511],\n",
       " [0.23005960402722636, 0.5, 0.5476009804101193],\n",
       " [0.7699403959727738, 0.5, 0.45239901958988066]]"
      ]
     },
     "execution_count": 53,
     "metadata": {},
     "output_type": "execute_result"
    }
   ],
   "source": [
    "I_t2"
   ]
  },
  {
   "cell_type": "code",
   "execution_count": 54,
   "id": "6fcc3fc1",
   "metadata": {},
   "outputs": [],
   "source": [
    "# 90 deg tily\n",
    "I_t,I_t2 = final_coordinates_after_tilt(90)"
   ]
  },
  {
   "cell_type": "code",
   "execution_count": 55,
   "id": "4ddd1cd7",
   "metadata": {},
   "outputs": [
    {
     "data": {
      "text/plain": [
       "[[-0.2741052183085494, 0.0, 3.1567195060214215e-06],\n",
       " [1.0248259984092631, 0.265969992, -0.26997869651973017],\n",
       " [1.0248259984092631, 0.734030008, -0.26997869651973017],\n",
       " [-0.024826026938925935, 0.265969992, 1.2699787213201001],\n",
       " [-0.024826026938925935, 0.734030008, 1.2699787213201001],\n",
       " [1.2741052183085493, 0.0, 0.999996843280494]]"
      ]
     },
     "execution_count": 55,
     "metadata": {},
     "output_type": "execute_result"
    }
   ],
   "source": [
    "I_t"
   ]
  },
  {
   "cell_type": "code",
   "execution_count": 56,
   "id": "d723f635",
   "metadata": {},
   "outputs": [
    {
     "data": {
      "text/plain": [
       "[[0.4751740084496265, 0.765969992, 0.7699786979181693],\n",
       " [0.5248260269389259, 0.234030008, 0.23002127867989997],\n",
       " [0.5248260269389259, 0.765969992, 0.23002127867989997],\n",
       " [0.4751740084496265, 0.234030008, 0.7699786979181693],\n",
       " [0.22589478169145066, 0.5, 0.500003156719506],\n",
       " [0.7741052183085494, 0.5, 0.499996843280494]]"
      ]
     },
     "execution_count": 56,
     "metadata": {},
     "output_type": "execute_result"
    }
   ],
   "source": [
    "I_t2"
   ]
  },
  {
   "cell_type": "code",
   "execution_count": 23,
   "id": "f5d69a82",
   "metadata": {},
   "outputs": [],
   "source": [
    "# -10 deg tily\n",
    "I_t,I_t2 = final_coordinates_after_tilt(-10)"
   ]
  },
  {
   "cell_type": "code",
   "execution_count": 24,
   "id": "9defd3fd",
   "metadata": {},
   "outputs": [
    {
     "data": {
      "text/plain": [
       "[[0.047600980410119335, 0.0, 0.26994039597277364],\n",
       " [0.729811897136709, 0.265969992, 0.022432472949833207],\n",
       " [0.729811897136709, 0.734030008, 0.022432472949833207],\n",
       " [0.27018813224101146, 0.265969992, 0.9775675508398608],\n",
       " [0.27018813224101146, 0.734030008, 0.9775675508398608],\n",
       " [0.9523990195898806, 0.0, 0.7300596040272265]]"
      ]
     },
     "execution_count": 24,
     "metadata": {},
     "output_type": "execute_result"
    }
   ],
   "source": [
    "I_t"
   ]
  },
  {
   "cell_type": "code",
   "execution_count": 25,
   "id": "c808102a",
   "metadata": {},
   "outputs": [
    {
     "data": {
      "text/plain": [
       "[[0.7701881030494511, 0.765969992, 0.4775675200526426],\n",
       " [0.22981186775898854, 0.234030008, 0.5224324491601392],\n",
       " [0.22981186775898854, 0.765969992, 0.5224324491601392],\n",
       " [0.7701881030494511, 0.234030008, 0.4775675200526426],\n",
       " [0.5476009804101194, 0.5, 0.7699403959727735],\n",
       " [0.45239901958988066, 0.5, 0.23005960402722636]]"
      ]
     },
     "execution_count": 25,
     "metadata": {},
     "output_type": "execute_result"
    }
   ],
   "source": [
    "I_t2"
   ]
  },
  {
   "cell_type": "code",
   "execution_count": 26,
   "id": "afbc9773",
   "metadata": {},
   "outputs": [],
   "source": [
    "# -30 deg tily\n",
    "I_t,I_t2 = final_coordinates_after_tilt(-30)"
   ]
  },
  {
   "cell_type": "code",
   "execution_count": 27,
   "id": "01781415",
   "metadata": {},
   "outputs": [
    {
     "data": {
      "text/plain": [
       "[[0.13705534295355953, 0.0, 0.2373805040053302],\n",
       " [0.7537785911286727, 0.265969992, 0.11348940296313105],\n",
       " [0.7537785911286727, 0.734030008, 0.11348940296313105],\n",
       " [0.24622144461390907, 0.265969992, 0.8865106093440966],\n",
       " [0.24622144461390907, 0.734030008, 0.8865106093440966],\n",
       " [0.8629446570464405, 0.0, 0.7626194959946699]]"
      ]
     },
     "execution_count": 27,
     "metadata": {},
     "output_type": "execute_result"
    }
   ],
   "source": [
    "I_t"
   ]
  },
  {
   "cell_type": "code",
   "execution_count": 28,
   "id": "2e567872",
   "metadata": {},
   "outputs": [
    {
     "data": {
      "text/plain": [
       "[[0.7462214066529663, 0.765969992, 0.3865105903976766],\n",
       " [0.25377855538609095, 0.234030008, 0.6134893906559034],\n",
       " [0.25377855538609095, 0.765969992, 0.6134893906559034],\n",
       " [0.7462214066529663, 0.234030008, 0.3865105903976766],\n",
       " [0.6370553429535595, 0.5, 0.7373805040053301],\n",
       " [0.36294465704644047, 0.5, 0.2626194959946698]]"
      ]
     },
     "execution_count": 28,
     "metadata": {},
     "output_type": "execute_result"
    }
   ],
   "source": [
    "I_t2"
   ]
  },
  {
   "cell_type": "code",
   "execution_count": 32,
   "id": "d52bb36f",
   "metadata": {},
   "outputs": [],
   "source": [
    "# -40 deg tily\n",
    "I_t,I_t2 = final_coordinates_after_tilt(-40)"
   ]
  },
  {
   "cell_type": "code",
   "execution_count": 33,
   "id": "9eb1ad1b",
   "metadata": {},
   "outputs": [
    {
     "data": {
      "text/plain": [
       "[[0.17619385626659556, 0.0, 0.20997475021499293],\n",
       " [0.7772264755949836, 0.265969992, 0.15452114287590826],\n",
       " [0.7772264755949836, 0.734030008, 0.15452114287590826],\n",
       " [0.22277356174171564, 0.265969992, 0.8454788630377108],\n",
       " [0.22277356174171564, 0.734030008, 0.8454788630377108],\n",
       " [0.8238061437334044, 0.0, 0.7900252497850071]]"
      ]
     },
     "execution_count": 33,
     "metadata": {},
     "output_type": "execute_result"
    }
   ],
   "source": [
    "I_t"
   ]
  },
  {
   "cell_type": "code",
   "execution_count": 34,
   "id": "7336bed3",
   "metadata": {},
   "outputs": [
    {
     "data": {
      "text/plain": [
       "[[0.7227735210674737, 0.765969992, 0.34547885097097797],\n",
       " [0.27722643825828436, 0.234030008, 0.6545211369622892],\n",
       " [0.27722643825828436, 0.765969992, 0.6545211369622892],\n",
       " [0.7227735210674737, 0.234030008, 0.34547885097097797],\n",
       " [0.6761938562665956, 0.5, 0.7099747502149929],\n",
       " [0.32380614373340444, 0.5, 0.2900252497850071]]"
      ]
     },
     "execution_count": 34,
     "metadata": {},
     "output_type": "execute_result"
    }
   ],
   "source": [
    "I_t2"
   ]
  },
  {
   "cell_type": "code",
   "execution_count": 38,
   "id": "578bd1f3",
   "metadata": {},
   "outputs": [],
   "source": [
    "# -50 deg tily\n",
    "I_t,I_t2 = final_coordinates_after_tilt(-50)"
   ]
  },
  {
   "cell_type": "code",
   "execution_count": 39,
   "id": "bd98bea3",
   "metadata": {},
   "outputs": [
    {
     "data": {
      "text/plain": [
       "[[0.20997880841536437, 0.0, 0.17618901989172345],\n",
       " [0.8074432208714983, 0.265969992, 0.1908578360538721],\n",
       " [0.8074432208714983, 0.734030008, 0.1908578360538721],\n",
       " [0.19255681692486173, 0.265969992, 0.809142163286456],\n",
       " [0.19255681692486173, 0.734030008, 0.809142163286456],\n",
       " [0.7900211915846357, 0.0, 0.8238109801082766]]"
      ]
     },
     "execution_count": 39,
     "metadata": {},
     "output_type": "execute_result"
    }
   ],
   "source": [
    "I_t"
   ]
  },
  {
   "cell_type": "code",
   "execution_count": 40,
   "id": "6f8fa98a",
   "metadata": {},
   "outputs": [
    {
     "data": {
      "text/plain": [
       "[[0.6925567747731867, 0.765969992, 0.309142158466052],\n",
       " [0.3074431830751383, 0.234030008, 0.690857836713544],\n",
       " [0.3074431830751383, 0.765969992, 0.690857836713544],\n",
       " [0.6925567747731867, 0.234030008, 0.309142158466052],\n",
       " [0.7099788084153643, 0.5, 0.6761890198917234],\n",
       " [0.29002119158463563, 0.5, 0.3238109801082766]]"
      ]
     },
     "execution_count": 40,
     "metadata": {},
     "output_type": "execute_result"
    }
   ],
   "source": [
    "I_t2"
   ]
  },
  {
   "cell_type": "code",
   "execution_count": 44,
   "id": "fade41f6",
   "metadata": {},
   "outputs": [],
   "source": [
    "# -60 deg tily\n",
    "I_t,I_t2 = final_coordinates_after_tilt(-60)"
   ]
  },
  {
   "cell_type": "code",
   "execution_count": 45,
   "id": "c352e222",
   "metadata": {},
   "outputs": [
    {
     "data": {
      "text/plain": [
       "[[0.23738366072483622, 0.0, 0.13704987535498986],\n",
       " [0.8435107064434009, 0.265969992, 0.22139541046206412],\n",
       " [0.8435107064434009, 0.734030008, 0.22139541046206412],\n",
       " [0.1564893306641967, 0.265969992, 0.7786045823250168],\n",
       " [0.1564893306641967, 0.734030008, 0.7786045823250168],\n",
       " [0.7626163392751638, 0.0, 0.8629501246450102]]"
      ]
     },
     "execution_count": 45,
     "metadata": {},
     "output_type": "execute_result"
    }
   ],
   "source": [
    "I_t"
   ]
  },
  {
   "cell_type": "code",
   "execution_count": 46,
   "id": "d5178422",
   "metadata": {},
   "outputs": [
    {
     "data": {
      "text/plain": [
       "[[0.656489288315846, 0.765969992, 0.27860458489740714],\n",
       " [0.3435106693358033, 0.234030008, 0.7213954176749832],\n",
       " [0.3435106693358033, 0.765969992, 0.7213954176749832],\n",
       " [0.656489288315846, 0.234030008, 0.27860458489740714],\n",
       " [0.7373836607248362, 0.5, 0.6370498753549898],\n",
       " [0.26261633927516376, 0.5, 0.36295012464501014]]"
      ]
     },
     "execution_count": 46,
     "metadata": {},
     "output_type": "execute_result"
    }
   ],
   "source": [
    "I_t2"
   ]
  },
  {
   "cell_type": "code",
   "execution_count": 50,
   "id": "82147f58",
   "metadata": {},
   "outputs": [],
   "source": [
    "# -70 deg tily\n",
    "I_t,I_t2 = final_coordinates_after_tilt(-70)"
   ]
  },
  {
   "cell_type": "code",
   "execution_count": 51,
   "id": "29b736b5",
   "metadata": {},
   "outputs": [
    {
     "data": {
      "text/plain": [
       "[[0.25757573062511224, 0.0, 0.09374653970617816],\n",
       " [0.8843330400126173, 0.265969992, 0.24520599735484958],\n",
       " [0.8843330400126173, 0.734030008, 0.24520599735484958],\n",
       " [0.11566699527872236, 0.265969992, 0.7547939890981451],\n",
       " [0.11566699527872236, 0.734030008, 0.7547939890981451],\n",
       " [0.7424242693748878, 0.0, 0.9062534602938219]]"
      ]
     },
     "execution_count": 51,
     "metadata": {},
     "output_type": "execute_result"
    }
   ],
   "source": [
    "I_t"
   ]
  },
  {
   "cell_type": "code",
   "execution_count": 52,
   "id": "a25adbfa",
   "metadata": {},
   "outputs": [
    {
     "data": {
      "text/plain": [
       "[[0.615666954020429, 0.765969992, 0.25479399898516897],\n",
       " [0.3843330047212776, 0.234030008, 0.7452060109018549],\n",
       " [0.3843330047212776, 0.765969992, 0.7452060109018549],\n",
       " [0.615666954020429, 0.234030008, 0.25479399898516897],\n",
       " [0.7575757306251122, 0.5, 0.5937465397061781],\n",
       " [0.24242426937488776, 0.5, 0.40625346029382187]]"
      ]
     },
     "execution_count": 52,
     "metadata": {},
     "output_type": "execute_result"
    }
   ],
   "source": [
    "I_t2"
   ]
  },
  {
   "cell_type": "code",
   "execution_count": 54,
   "id": "0fc9b91c",
   "metadata": {},
   "outputs": [],
   "source": [
    "# -80 deg tily\n",
    "I_t,I_t2 = final_coordinates_after_tilt(-80)"
   ]
  },
  {
   "cell_type": "code",
   "execution_count": 55,
   "id": "50786aca",
   "metadata": {},
   "outputs": [
    {
     "data": {
      "text/plain": [
       "[[0.2699414922899529, 0.0, 0.04759476288643213],\n",
       " [0.9286698556307444, 0.265969992, 0.2615661240982296],\n",
       " [0.9286698556307444, 0.734030008, 0.2615661240982296],\n",
       " [0.07133017677202763, 0.265969992, 0.7384338564322978],\n",
       " [0.07133017677202763, 0.734030008, 0.7384338564322978],\n",
       " [0.7300585077100472, 0.0, 0.952405237113568]]"
      ]
     },
     "execution_count": 55,
     "metadata": {},
     "output_type": "execute_result"
    }
   ],
   "source": [
    "I_t"
   ]
  },
  {
   "cell_type": "code",
   "execution_count": 56,
   "id": "4e64b3f7",
   "metadata": {},
   "outputs": [
    {
     "data": {
      "text/plain": [
       "[[0.5713301378574042, 0.765969992, 0.23843387333354293],\n",
       " [0.42866982322797237, 0.234030008, 0.7615661435677022],\n",
       " [0.42866982322797237, 0.765969992, 0.7615661435677022],\n",
       " [0.5713301378574042, 0.234030008, 0.23843387333354293],\n",
       " [0.7699414922899528, 0.5, 0.547594762886432],\n",
       " [0.2300585077100471, 0.5, 0.4524052371135679]]"
      ]
     },
     "execution_count": 56,
     "metadata": {},
     "output_type": "execute_result"
    }
   ],
   "source": [
    "I_t2"
   ]
  },
  {
   "cell_type": "code",
   "execution_count": 60,
   "id": "7e634273",
   "metadata": {},
   "outputs": [],
   "source": [
    "# -90 deg tily\n",
    "I_t,I_t2 = final_coordinates_after_tilt(-90)"
   ]
  },
  {
   "cell_type": "code",
   "execution_count": 61,
   "id": "2e6922f3",
   "metadata": {},
   "outputs": [
    {
     "data": {
      "text/plain": [
       "[[0.2741052183085494, 0.0, -3.1567195060214215e-06],\n",
       " [0.9751740015907367, 0.265969992, 0.26997869651973017],\n",
       " [0.9751740015907367, 0.734030008, 0.26997869651973017],\n",
       " [0.024826026938925935, 0.265969992, 0.7300212786799],\n",
       " [0.024826026938925935, 0.734030008, 0.7300212786799],\n",
       " [0.7258947816914507, 0.0, 1.000003156719506]]"
      ]
     },
     "execution_count": 61,
     "metadata": {},
     "output_type": "execute_result"
    }
   ],
   "source": [
    "I_t"
   ]
  },
  {
   "cell_type": "code",
   "execution_count": 62,
   "id": "fbc21d9d",
   "metadata": {},
   "outputs": [
    {
     "data": {
      "text/plain": [
       "[[0.5248259915503735, 0.765969992, 0.23002130208183064],\n",
       " [0.47517397306107406, 0.234030008, 0.7699787213201],\n",
       " [0.47517397306107406, 0.765969992, 0.7699787213201],\n",
       " [0.5248259915503735, 0.234030008, 0.23002130208183064],\n",
       " [0.7741052183085493, 0.5, 0.49999684328049393],\n",
       " [0.2258947816914506, 0.5, 0.500003156719506]]"
      ]
     },
     "execution_count": 62,
     "metadata": {},
     "output_type": "execute_result"
    }
   ],
   "source": [
    "I_t2"
   ]
  },
  {
   "cell_type": "code",
   "execution_count": null,
   "id": "f3b136f6",
   "metadata": {},
   "outputs": [],
   "source": []
  }
 ],
 "metadata": {
  "kernelspec": {
   "display_name": "Python 3 (ipykernel)",
   "language": "python",
   "name": "python3"
  },
  "language_info": {
   "codemirror_mode": {
    "name": "ipython",
    "version": 3
   },
   "file_extension": ".py",
   "mimetype": "text/x-python",
   "name": "python",
   "nbconvert_exporter": "python",
   "pygments_lexer": "ipython3",
   "version": "3.10.13"
  },
  "varInspector": {
   "cols": {
    "lenName": 16,
    "lenType": 16,
    "lenVar": 40
   },
   "kernels_config": {
    "python": {
     "delete_cmd_postfix": "",
     "delete_cmd_prefix": "del ",
     "library": "var_list.py",
     "varRefreshCmd": "print(var_dic_list())"
    },
    "r": {
     "delete_cmd_postfix": ") ",
     "delete_cmd_prefix": "rm(",
     "library": "var_list.r",
     "varRefreshCmd": "cat(var_dic_list()) "
    }
   },
   "types_to_exclude": [
    "module",
    "function",
    "builtin_function_or_method",
    "instance",
    "_Feature"
   ],
   "window_display": false
  }
 },
 "nbformat": 4,
 "nbformat_minor": 5
}
